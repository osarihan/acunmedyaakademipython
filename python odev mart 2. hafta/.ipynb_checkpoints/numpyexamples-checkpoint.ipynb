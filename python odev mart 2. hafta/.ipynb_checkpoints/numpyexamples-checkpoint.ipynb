{
 "cells": [
  {
   "cell_type": "markdown",
   "id": "646ebc63-88a7-489c-89c7-4dd95fbab351",
   "metadata": {},
   "source": [
    "### Numpy kütüphanesinde 10 adet seçtikleri fonksiyonu açıklayarak kullanım örneği olan jupyter notebook ile paylaşılacak."
   ]
  },
  {
   "cell_type": "code",
   "execution_count": 2,
   "id": "04a3d07b-424c-4971-b171-112053e9e4ed",
   "metadata": {},
   "outputs": [],
   "source": [
    "import numpy as np"
   ]
  },
  {
   "cell_type": "code",
   "execution_count": 3,
   "id": "a9c34474-bf0d-4a93-91b9-388e3e49e1a0",
   "metadata": {},
   "outputs": [
    {
     "data": {
      "text/plain": [
       "array([1, 2, 3, 4, 5])"
      ]
     },
     "execution_count": 3,
     "metadata": {},
     "output_type": "execute_result"
    }
   ],
   "source": [
    "#numpy array olusturma #1\n",
    "arr = np.array([1, 2, 3, 4, 5])\n",
    "arr"
   ]
  },
  {
   "cell_type": "code",
   "execution_count": 6,
   "id": "6d2582de-8533-472b-bd16-cc879db7f858",
   "metadata": {},
   "outputs": [
    {
     "data": {
      "text/plain": [
       "array([ 0,  1,  2,  3,  4,  5,  6,  7,  8,  9, 10, 11, 12, 13, 14, 15, 16,\n",
       "       17, 18, 19, 20, 21, 22, 23, 24, 25, 26, 27, 28, 29, 30, 31, 32, 33,\n",
       "       34, 35, 36, 37, 38, 39, 40, 41, 42, 43, 44, 45, 46, 47, 48, 49, 50,\n",
       "       51, 52, 53, 54, 55, 56, 57, 58, 59, 60, 61, 62, 63, 64, 65, 66, 67,\n",
       "       68, 69, 70, 71, 72, 73, 74, 75, 76, 77, 78, 79, 80, 81, 82, 83, 84,\n",
       "       85, 86, 87, 88, 89, 90, 91, 92, 93, 94, 95, 96, 97, 98, 99])"
      ]
     },
     "execution_count": 6,
     "metadata": {},
     "output_type": "execute_result"
    }
   ],
   "source": [
    "#2 0 ile 100 arasi degerler ile array olusturma\n",
    "np.arange(0, 100)"
   ]
  },
  {
   "cell_type": "code",
   "execution_count": 9,
   "id": "761b2171-a7b9-4c12-8378-642f72d2527c",
   "metadata": {},
   "outputs": [
    {
     "data": {
      "text/plain": [
       "array([  0.,  25.,  50.,  75., 100.])"
      ]
     },
     "execution_count": 9,
     "metadata": {},
     "output_type": "execute_result"
    }
   ],
   "source": [
    "# 0 ve 100 arasını 5 eşit parçaya böl ve göster #3\n",
    "np.linspace(0,100,5)"
   ]
  },
  {
   "cell_type": "code",
   "execution_count": 12,
   "id": "759b4732-d06b-4c14-a674-bc42287009a1",
   "metadata": {},
   "outputs": [
    {
     "data": {
      "text/plain": [
       "array([60, 68, 16,  0, 91], dtype=int32)"
      ]
     },
     "execution_count": 12,
     "metadata": {},
     "output_type": "execute_result"
    }
   ],
   "source": [
    "#4\n",
    "# 0 ve 100 arasında ranstgele bir sayı üret\n",
    "np.random.randint(100)\n",
    "# 0 ve 100 arasında 5 tane rastgele sayı\n",
    "np.random.randint(0,100,5)"
   ]
  },
  {
   "cell_type": "code",
   "execution_count": 17,
   "id": "4d49e832-380c-4884-8fb9-2490709da53e",
   "metadata": {},
   "outputs": [
    {
     "data": {
      "text/plain": [
       "array([682,  10, 358, 157, 293, 507, 170, 160, 919, 990, 151, 440, 559,\n",
       "       103, 281, 668, 215, 144, 431, 676, 594, 902, 165, 765, 497, 437,\n",
       "       526, 713, 677, 690, 904, 487, 427, 466, 629, 293, 425, 586, 212,\n",
       "       156, 697, 945, 788, 693, 829, 191, 438,  22, 305, 639, 769, 426,\n",
       "       392, 889, 873, 334, 264, 429,  28, 762, 190, 261, 176, 941, 979,\n",
       "       463, 468, 422, 774, 297, 342,   4, 516, 289, 271, 103, 728, 427,\n",
       "        99,  73, 256, 835, 824, 890, 148, 359, 815, 284, 144, 356,  20,\n",
       "       321, 239, 890, 332, 959, 635,  45, 470, 677, 330, 445, 756, 818,\n",
       "       417, 855, 191, 905, 820,  21, 249, 549, 593, 839, 347, 612, 463,\n",
       "       238, 757,  90, 603, 938, 816, 860, 623, 728, 625, 704, 824, 514,\n",
       "        50, 790, 867, 893, 448, 700, 602, 209, 185, 322, 135, 531, 301,\n",
       "       646, 362, 543, 198, 881, 151, 298, 479, 127, 669, 756, 577, 922,\n",
       "       338,  77, 883, 294, 377,  71, 308, 627, 770, 278, 173,  46,  55,\n",
       "       177, 735, 535, 487, 607, 962, 947, 530, 959,  37, 795, 398, 988,\n",
       "       249, 872,  32, 592, 467, 590, 496, 338, 930, 152,  64, 389, 657,\n",
       "       108, 524, 607, 391, 715, 184, 429, 945, 807, 227, 167, 932, 288,\n",
       "       564, 223, 696, 359, 933,   0, 434, 365,  55, 369, 118, 798, 830,\n",
       "       424, 518, 917,  77], dtype=int32)"
      ]
     },
     "execution_count": 17,
     "metadata": {},
     "output_type": "execute_result"
    }
   ],
   "source": [
    "Data1 = np.array(np.random.randint(0, 1000 ,225))\n",
    "Data1"
   ]
  },
  {
   "cell_type": "code",
   "execution_count": 19,
   "id": "7a9ec9e5-f542-4d89-b1f2-f391ad27d27c",
   "metadata": {},
   "outputs": [
    {
     "data": {
      "text/plain": [
       "array([[682,  10, 358, 157, 293, 507, 170, 160, 919, 990, 151, 440, 559,\n",
       "        103, 281],\n",
       "       [668, 215, 144, 431, 676, 594, 902, 165, 765, 497, 437, 526, 713,\n",
       "        677, 690],\n",
       "       [904, 487, 427, 466, 629, 293, 425, 586, 212, 156, 697, 945, 788,\n",
       "        693, 829],\n",
       "       [191, 438,  22, 305, 639, 769, 426, 392, 889, 873, 334, 264, 429,\n",
       "         28, 762],\n",
       "       [190, 261, 176, 941, 979, 463, 468, 422, 774, 297, 342,   4, 516,\n",
       "        289, 271],\n",
       "       [103, 728, 427,  99,  73, 256, 835, 824, 890, 148, 359, 815, 284,\n",
       "        144, 356],\n",
       "       [ 20, 321, 239, 890, 332, 959, 635,  45, 470, 677, 330, 445, 756,\n",
       "        818, 417],\n",
       "       [855, 191, 905, 820,  21, 249, 549, 593, 839, 347, 612, 463, 238,\n",
       "        757,  90],\n",
       "       [603, 938, 816, 860, 623, 728, 625, 704, 824, 514,  50, 790, 867,\n",
       "        893, 448],\n",
       "       [700, 602, 209, 185, 322, 135, 531, 301, 646, 362, 543, 198, 881,\n",
       "        151, 298],\n",
       "       [479, 127, 669, 756, 577, 922, 338,  77, 883, 294, 377,  71, 308,\n",
       "        627, 770],\n",
       "       [278, 173,  46,  55, 177, 735, 535, 487, 607, 962, 947, 530, 959,\n",
       "         37, 795],\n",
       "       [398, 988, 249, 872,  32, 592, 467, 590, 496, 338, 930, 152,  64,\n",
       "        389, 657],\n",
       "       [108, 524, 607, 391, 715, 184, 429, 945, 807, 227, 167, 932, 288,\n",
       "        564, 223],\n",
       "       [696, 359, 933,   0, 434, 365,  55, 369, 118, 798, 830, 424, 518,\n",
       "        917,  77]], dtype=int32)"
      ]
     },
     "execution_count": 19,
     "metadata": {},
     "output_type": "execute_result"
    }
   ],
   "source": [
    "#RESHAPE metodu datayı istediğimiz şekli vermemizi sağlar ve matrise çevirir\n",
    "#5\n",
    "Data1.reshape(15,15)"
   ]
  },
  {
   "cell_type": "code",
   "execution_count": 21,
   "id": "4499a528-c659-444c-99ca-78bee91e0ae1",
   "metadata": {},
   "outputs": [
    {
     "data": {
      "text/plain": [
       "np.int32(0)"
      ]
     },
     "execution_count": 21,
     "metadata": {},
     "output_type": "execute_result"
    }
   ],
   "source": [
    "#6\n",
    "#en bujyuk deger\n",
    "Data1.max()"
   ]
  },
  {
   "cell_type": "code",
   "execution_count": 22,
   "id": "fb2a2259-f9ad-45b5-98d1-2b7249d0e624",
   "metadata": {},
   "outputs": [
    {
     "data": {
      "text/plain": [
       "np.int32(0)"
      ]
     },
     "execution_count": 22,
     "metadata": {},
     "output_type": "execute_result"
    }
   ],
   "source": [
    "Data1.min()"
   ]
  },
  {
   "cell_type": "code",
   "execution_count": 23,
   "id": "ceeb11d0-f798-46d6-9b79-b2f7a5c0e5b0",
   "metadata": {},
   "outputs": [
    {
     "data": {
      "text/plain": [
       "np.int64(9)"
      ]
     },
     "execution_count": 23,
     "metadata": {},
     "output_type": "execute_result"
    }
   ],
   "source": [
    "#en buyuk degerin indeksini verir\n",
    "#6\n",
    "Data1.argmax()"
   ]
  },
  {
   "cell_type": "code",
   "execution_count": 24,
   "id": "cc008c75-4fb0-42de-a064-9945720f7c7f",
   "metadata": {},
   "outputs": [
    {
     "data": {
      "text/plain": [
       "np.float64(484.2577777777778)"
      ]
     },
     "execution_count": 24,
     "metadata": {},
     "output_type": "execute_result"
    }
   ],
   "source": [
    "#7\n",
    "#ortalama bulma\n",
    "np.mean(Data1)"
   ]
  },
  {
   "cell_type": "code",
   "execution_count": 25,
   "id": "c8ed390c-8da5-4f2c-8ee6-263fd3b30ede",
   "metadata": {},
   "outputs": [
    {
     "name": "stdout",
     "output_type": "stream",
     "text": [
      "[[19 22]\n",
      " [43 50]]\n"
     ]
    }
   ],
   "source": [
    "#8\n",
    "#matris carpimi\n",
    "A = np.array([[1, 2], [3, 4]])\n",
    "B = np.array([[5, 6], [7, 8]])\n",
    "dotp = np.dot(A, B)\n",
    "print(dotp)"
   ]
  },
  {
   "cell_type": "code",
   "execution_count": 29,
   "id": "4feab962-d7e1-46f9-9d2c-0e4e5299b8a2",
   "metadata": {},
   "outputs": [
    {
     "data": {
      "text/plain": [
       "array([[1, 2],\n",
       "       [3, 4],\n",
       "       [5, 6],\n",
       "       [7, 8]])"
      ]
     },
     "execution_count": 29,
     "metadata": {},
     "output_type": "execute_result"
    }
   ],
   "source": [
    "#9\n",
    "# birlestirme\n",
    "C = np.concatenate((A, B))\n",
    "C"
   ]
  },
  {
   "cell_type": "code",
   "execution_count": 30,
   "id": "42d2cdca-4b93-4cac-8cce-f1d15c6cfe70",
   "metadata": {},
   "outputs": [
    {
     "data": {
      "text/plain": [
       "(array([1, 1, 2, 2, 3, 3]), array([0, 1, 0, 1, 0, 1]))"
      ]
     },
     "execution_count": 30,
     "metadata": {},
     "output_type": "execute_result"
    }
   ],
   "source": [
    "#10\n",
    "#deger aramasi\n",
    "np.where(C > 2)"
   ]
  },
  {
   "cell_type": "code",
   "execution_count": 31,
   "id": "89ee87a9-8b9c-429e-b7fb-05be8f2c3f0f",
   "metadata": {},
   "outputs": [
    {
     "data": {
      "text/plain": [
       "array([1, 2, 3, 4, 5, 6, 7, 8])"
      ]
     },
     "execution_count": 31,
     "metadata": {},
     "output_type": "execute_result"
    }
   ],
   "source": [
    "#11\n",
    "#benzersiz degerleri bulma\n",
    "np.unique(C)"
   ]
  },
  {
   "cell_type": "code",
   "execution_count": 33,
   "id": "f41c3486-7acb-48b2-8c7f-7a6cad97e4a7",
   "metadata": {},
   "outputs": [
    {
     "data": {
      "text/plain": [
       "array([ 1,  3,  6, 10, 15, 21, 28, 36])"
      ]
     },
     "execution_count": 33,
     "metadata": {},
     "output_type": "execute_result"
    }
   ],
   "source": [
    "# her degrein kendinden onceki ile toplanmasini sagalr\n",
    "#komulatif toplam\n",
    "#12\n",
    "np.cumsum(C)"
   ]
  },
  {
   "cell_type": "code",
   "execution_count": null,
   "id": "c14c8e93-6902-4f56-b842-da6384818dac",
   "metadata": {},
   "outputs": [],
   "source": []
  }
 ],
 "metadata": {
  "kernelspec": {
   "display_name": "Python 3 (ipykernel)",
   "language": "python",
   "name": "python3"
  },
  "language_info": {
   "codemirror_mode": {
    "name": "ipython",
    "version": 3
   },
   "file_extension": ".py",
   "mimetype": "text/x-python",
   "name": "python",
   "nbconvert_exporter": "python",
   "pygments_lexer": "ipython3",
   "version": "3.9.21"
  }
 },
 "nbformat": 4,
 "nbformat_minor": 5
}
