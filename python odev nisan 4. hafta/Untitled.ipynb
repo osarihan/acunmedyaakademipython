{
 "cells": [
  {
   "cell_type": "markdown",
   "id": "69ce6af9-5a83-41b3-9a53-7e2e0799e1b5",
   "metadata": {},
   "source": [
    "## ODEV"
   ]
  },
  {
   "cell_type": "markdown",
   "id": "f8588cf6-0cab-4569-a0ae-696cec02d205",
   "metadata": {},
   "source": [
    "    Bu modelin metriklerini nasıl ölçüyoruz? \n",
    "    Bu modeli siz geliştiriyor olsaydınız, hangi değişiklikler ile modeli performansını geliştirmek için hangi adımları atardınız. "
   ]
  },
  {
   "cell_type": "markdown",
   "id": "d68e21da-a0ad-4c26-a25d-442d8c905718",
   "metadata": {},
   "source": [
    "### Bu modelin metriklerini nasıl ölçüyoruz? "
   ]
  },
  {
   "cell_type": "markdown",
   "id": "2758e008-c6f8-409c-87ac-5a96baa812ab",
   "metadata": {},
   "source": [
    "    Modelin metriklerini ölçmek için, mean_absolute_error, mean_squared_error, accuracy_score, precision_score, recall_score, f1_score, confusion_matrix, roc_curve, roc_auc_score fonksiyonların kullanabiliriz.\n",
    "\n",
    "    mean_absolute_error = Tahmin edilen değerlerin gerçek değerlere olan mutlak farklarının ortalamasıdır.\n",
    "    mean_squared_error  = Tahmin hatalarının karesinin ortalamasıdır.\n",
    "    accuracy_score      = Doğru tahmin edilen örneklerin toplam örneğe oranı.\n",
    "    precision_score     = Modelin “pozitif” dediği örneklerin gerçekten ne kadarının pozitif olduğunu gösterir.\n",
    "    recall_score        = Gerçekten pozitif olanların ne kadarının doğru tahmin edildiğini gösterir.\n",
    "    f1_score            = Precision ve recall’un harmonik ortalamasıdır.\n",
    "    confusion_matrix    = Gerçek ve tahmin edilen sınıfların sayısal bir özetidir.\n",
    "    roc_curve           = Farklı eşik değerlerine göre True Positive Rate (TPR) ve False Positive Rate (FPR)'in grafiğidir.\n",
    "    roc_auc_score       = ROC eğrisinin altındaki alan (Area Under Curve - AUC). 0.5 rastgele tahmin, 1.0 mükemmel sıralama\n",
    "    "
   ]
  },
  {
   "cell_type": "markdown",
   "id": "b9437d09-759a-401f-b1aa-71a8ec751fcf",
   "metadata": {},
   "source": [
    "### Modeli iyileştirmek için yapılabilecekler:"
   ]
  },
  {
   "cell_type": "markdown",
   "id": "838e2ae3-129e-498e-91fd-c1738e759d7c",
   "metadata": {},
   "source": [
    "    Modeli iyileştirmek için yapılabilecekler: stopwordleri daha iyi seçebiliriz, aynı zamanda öğrenim verilerinin sayısını da arttırabiliriz. "
   ]
  },
  {
   "cell_type": "code",
   "execution_count": null,
   "id": "68555268-97b2-4822-b3ef-52ed067f4073",
   "metadata": {},
   "outputs": [],
   "source": []
  }
 ],
 "metadata": {
  "kernelspec": {
   "display_name": "Python 3 (ipykernel)",
   "language": "python",
   "name": "python3"
  },
  "language_info": {
   "codemirror_mode": {
    "name": "ipython",
    "version": 3
   },
   "file_extension": ".py",
   "mimetype": "text/x-python",
   "name": "python",
   "nbconvert_exporter": "python",
   "pygments_lexer": "ipython3",
   "version": "3.9.21"
  }
 },
 "nbformat": 4,
 "nbformat_minor": 5
}
