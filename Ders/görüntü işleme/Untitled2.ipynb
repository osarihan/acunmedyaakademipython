{
 "cells": [
  {
   "cell_type": "code",
   "execution_count": 1,
   "id": "a2fdf4a0-6347-4734-adfd-3e78ac8c8299",
   "metadata": {},
   "outputs": [],
   "source": [
    "#OCR nedir arastiralim, yaptigimiz bu modele ocr sistemini entergre edelim"
   ]
  },
  {
   "cell_type": "code",
   "execution_count": null,
   "id": "d0698116-45ad-4b4f-81a9-9699ac48db4a",
   "metadata": {},
   "outputs": [],
   "source": []
  },
  {
   "cell_type": "code",
   "execution_count": 2,
   "id": "f5c43a59-000f-4fd0-a247-b71d5ea3e3f1",
   "metadata": {},
   "outputs": [],
   "source": [
    "## OCR nedir? \n",
    "## Optical Character Recognition (Optik Karakter Tanıma) taranmış belgeler, \n",
    "## fotoğraflar veya PDF dosyaları gibi görsel formatlardaki yazılı metinleri dijital, düzenlenebilir metne dönüştürme teknolojisidir.\n"
   ]
  },
  {
   "cell_type": "code",
   "execution_count": null,
   "id": "94b6cc13-47d5-43e4-bb08-0153436f0e48",
   "metadata": {},
   "outputs": [],
   "source": []
  },
  {
   "cell_type": "code",
   "execution_count": null,
   "id": "46322729-99c3-4160-9266-13d04def27dc",
   "metadata": {},
   "outputs": [],
   "source": []
  }
 ],
 "metadata": {
  "kernelspec": {
   "display_name": "Python 3 (ipykernel)",
   "language": "python",
   "name": "python3"
  },
  "language_info": {
   "codemirror_mode": {
    "name": "ipython",
    "version": 3
   },
   "file_extension": ".py",
   "mimetype": "text/x-python",
   "name": "python",
   "nbconvert_exporter": "python",
   "pygments_lexer": "ipython3",
   "version": "3.9.21"
  }
 },
 "nbformat": 4,
 "nbformat_minor": 5
}
