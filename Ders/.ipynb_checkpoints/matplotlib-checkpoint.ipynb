{
 "cells": [
  {
   "cell_type": "markdown",
   "id": "a30b2f4f-cd62-4bc7-9051-18905359a11e",
   "metadata": {},
   "source": [
    "## Matplotlib Kutuphanesi"
   ]
  },
  {
   "cell_type": "markdown",
   "id": "8013b141-8340-4f1f-9ef3-791c2a570622",
   "metadata": {},
   "source": [
    "VERI GORSELLESTIRME KUTUPHANESI"
   ]
  },
  {
   "cell_type": "code",
   "execution_count": 2,
   "id": "42f59625-330a-439f-8172-5efa73734fd1",
   "metadata": {},
   "outputs": [
    {
     "name": "stdout",
     "output_type": "stream",
     "text": [
      "Requirement already satisfied: matplotlib in c:\\users\\ouz\\.conda\\envs\\python_a\\lib\\site-packages (3.9.4)\n",
      "Requirement already satisfied: contourpy>=1.0.1 in c:\\users\\ouz\\.conda\\envs\\python_a\\lib\\site-packages (from matplotlib) (1.3.0)\n",
      "Requirement already satisfied: cycler>=0.10 in c:\\users\\ouz\\.conda\\envs\\python_a\\lib\\site-packages (from matplotlib) (0.12.1)\n",
      "Requirement already satisfied: fonttools>=4.22.0 in c:\\users\\ouz\\.conda\\envs\\python_a\\lib\\site-packages (from matplotlib) (4.56.0)\n",
      "Requirement already satisfied: kiwisolver>=1.3.1 in c:\\users\\ouz\\.conda\\envs\\python_a\\lib\\site-packages (from matplotlib) (1.4.7)\n",
      "Requirement already satisfied: numpy>=1.23 in c:\\users\\ouz\\.conda\\envs\\python_a\\lib\\site-packages (from matplotlib) (2.0.2)\n",
      "Requirement already satisfied: packaging>=20.0 in c:\\users\\ouz\\.conda\\envs\\python_a\\lib\\site-packages (from matplotlib) (24.2)\n",
      "Requirement already satisfied: pillow>=8 in c:\\users\\ouz\\.conda\\envs\\python_a\\lib\\site-packages (from matplotlib) (11.1.0)\n",
      "Requirement already satisfied: pyparsing>=2.3.1 in c:\\users\\ouz\\.conda\\envs\\python_a\\lib\\site-packages (from matplotlib) (3.2.1)\n",
      "Requirement already satisfied: python-dateutil>=2.7 in c:\\users\\ouz\\.conda\\envs\\python_a\\lib\\site-packages (from matplotlib) (2.9.0.post0)\n",
      "Requirement already satisfied: importlib-resources>=3.2.0 in c:\\users\\ouz\\.conda\\envs\\python_a\\lib\\site-packages (from matplotlib) (6.5.2)\n",
      "Requirement already satisfied: zipp>=3.1.0 in c:\\users\\ouz\\.conda\\envs\\python_a\\lib\\site-packages (from importlib-resources>=3.2.0->matplotlib) (3.21.0)\n",
      "Requirement already satisfied: six>=1.5 in c:\\users\\ouz\\.conda\\envs\\python_a\\lib\\site-packages (from python-dateutil>=2.7->matplotlib) (1.17.0)\n"
     ]
    }
   ],
   "source": [
    "!pip install matplotlib"
   ]
  },
  {
   "cell_type": "code",
   "execution_count": 3,
   "id": "b4c5cf85-96dd-4da2-876d-a617b503e574",
   "metadata": {},
   "outputs": [],
   "source": [
    "import matplotlib.pyplot as plt"
   ]
  },
  {
   "cell_type": "code",
   "execution_count": 4,
   "id": "e76c49fe-8d77-4268-9c4f-8f3df8aa6ce3",
   "metadata": {},
   "outputs": [],
   "source": [
    "##ODEEEEEEEEEEEV matplotlibde 3 farkli grafik turu numpy arayleri kullanarak ornekleriyle birlikte"
   ]
  },
  {
   "cell_type": "code",
   "execution_count": null,
   "id": "7af78a6e-f9f7-4f9a-a750-bcfa14e51738",
   "metadata": {},
   "outputs": [],
   "source": []
  }
 ],
 "metadata": {
  "kernelspec": {
   "display_name": "Python 3 (ipykernel)",
   "language": "python",
   "name": "python3"
  },
  "language_info": {
   "codemirror_mode": {
    "name": "ipython",
    "version": 3
   },
   "file_extension": ".py",
   "mimetype": "text/x-python",
   "name": "python",
   "nbconvert_exporter": "python",
   "pygments_lexer": "ipython3",
   "version": "3.9.21"
  }
 },
 "nbformat": 4,
 "nbformat_minor": 5
}
