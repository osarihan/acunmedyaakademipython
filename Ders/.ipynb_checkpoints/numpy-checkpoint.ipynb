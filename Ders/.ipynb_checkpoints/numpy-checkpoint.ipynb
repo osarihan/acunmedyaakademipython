{
 "cells": [
  {
   "cell_type": "code",
   "execution_count": 1,
   "id": "cd58bd22-a603-44fb-b82c-f6f19831dc00",
   "metadata": {},
   "outputs": [],
   "source": [
    "import numpy as np"
   ]
  },
  {
   "cell_type": "code",
   "execution_count": 4,
   "id": "07dd9385-bc95-47a0-be4c-600175f42901",
   "metadata": {},
   "outputs": [],
   "source": [
    "scalar_arr = np.array(1)"
   ]
  },
  {
   "cell_type": "code",
   "execution_count": 16,
   "id": "d221359a-99b8-4941-8432-2e65c8babfa4",
   "metadata": {},
   "outputs": [
    {
     "data": {
      "text/plain": [
       "array([10, 20, 30])"
      ]
     },
     "execution_count": 16,
     "metadata": {},
     "output_type": "execute_result"
    }
   ],
   "source": [
    "vector_arr = np.array([10, 20, 30])\n",
    "vector_arr"
   ]
  },
  {
   "cell_type": "code",
   "execution_count": 17,
   "id": "db73ddd7-46a0-49e5-831d-e20c5d10e0aa",
   "metadata": {},
   "outputs": [
    {
     "data": {
      "text/plain": [
       "1"
      ]
     },
     "execution_count": 17,
     "metadata": {},
     "output_type": "execute_result"
    }
   ],
   "source": [
    "#arrayin boyutunu ogrenme\n",
    "#ndim\n",
    "vector_arr.ndim"
   ]
  },
  {
   "cell_type": "code",
   "execution_count": 15,
   "id": "a8ea086d-a3dc-48a6-8dff-80bc1d97ee2d",
   "metadata": {},
   "outputs": [],
   "source": [
    "vector_arr2 = np.array([50, 60, 70])"
   ]
  },
  {
   "cell_type": "code",
   "execution_count": 18,
   "id": "b0a31349-ae75-44ee-bbf7-476c4efebbe0",
   "metadata": {},
   "outputs": [
    {
     "data": {
      "text/plain": [
       "array([ 60,  80, 100])"
      ]
     },
     "execution_count": 18,
     "metadata": {},
     "output_type": "execute_result"
    }
   ],
   "source": [
    "#arrayler ile toplama\n",
    "result = vector_arr + vector_arr2\n",
    "result"
   ]
  },
  {
   "cell_type": "markdown",
   "id": "790600f4-573a-48f2-b9fc-6a8ec9ca9284",
   "metadata": {},
   "source": [
    "### ! (Shape) sekil arrayler arasi islem icin uyusmalidir"
   ]
  },
  {
   "cell_type": "code",
   "execution_count": 20,
   "id": "215144d2-9b74-4225-9e76-10fed04932e1",
   "metadata": {},
   "outputs": [],
   "source": [
    "arr1 = np.array([10, 20])\n",
    "arr2 = np.array([20, 30, 40])"
   ]
  },
  {
   "cell_type": "code",
   "execution_count": 22,
   "id": "718a26ff-aa4b-45dc-8958-a2a1fe3a7b67",
   "metadata": {},
   "outputs": [
    {
     "data": {
      "text/plain": [
       "((2,), (3,))"
      ]
     },
     "execution_count": 22,
     "metadata": {},
     "output_type": "execute_result"
    }
   ],
   "source": [
    "arr1.shape, arr2.shape"
   ]
  },
  {
   "cell_type": "code",
   "execution_count": 25,
   "id": "67f54e62-c33a-4268-a89a-72ca3d617c84",
   "metadata": {},
   "outputs": [
    {
     "data": {
      "text/plain": [
       "(2, (2, 3))"
      ]
     },
     "execution_count": 25,
     "metadata": {},
     "output_type": "execute_result"
    }
   ],
   "source": [
    "arr3 = np.array(\n",
    "    [\n",
    "        [10, 20, 30],\n",
    "        [30, 40, 50]\n",
    "    ]\n",
    ")\n",
    "arr3.ndim, arr3.shape"
   ]
  },
  {
   "cell_type": "code",
   "execution_count": 27,
   "id": "54741383-6cf6-4d9c-9de4-4d606e0596cb",
   "metadata": {},
   "outputs": [
    {
     "data": {
      "text/plain": [
       "(2, (2, 3))"
      ]
     },
     "execution_count": 27,
     "metadata": {},
     "output_type": "execute_result"
    }
   ],
   "source": [
    "arr4 = np.array(\n",
    "    [\n",
    "        [60, 70, 80],\n",
    "        [90, 100, 110]\n",
    "    ]\n",
    ")\n",
    "arr4.ndim, arr4.shape"
   ]
  },
  {
   "cell_type": "code",
   "execution_count": 28,
   "id": "eac91a3a-a938-4410-96d7-d0083432a815",
   "metadata": {},
   "outputs": [
    {
     "data": {
      "text/plain": [
       "array([[50, 50, 50],\n",
       "       [60, 60, 60]])"
      ]
     },
     "execution_count": 28,
     "metadata": {},
     "output_type": "execute_result"
    }
   ],
   "source": [
    "result2 = arr4 - arr3\n",
    "result2"
   ]
  },
  {
   "cell_type": "code",
   "execution_count": 31,
   "id": "8772954d-f567-4bd0-8fee-5d665f62cb49",
   "metadata": {},
   "outputs": [],
   "source": [
    "arr5 = np.array([\n",
    "    [30, 40],\n",
    "    [50, 60],\n",
    "    [70, 80],\n",
    "])"
   ]
  },
  {
   "cell_type": "code",
   "execution_count": 32,
   "id": "9a0f7188-d32c-4dad-a79d-81108b13c56a",
   "metadata": {},
   "outputs": [
    {
     "ename": "ValueError",
     "evalue": "operands could not be broadcast together with shapes (2,3) (3,2) ",
     "output_type": "error",
     "traceback": [
      "\u001b[1;31m---------------------------------------------------------------------------\u001b[0m",
      "\u001b[1;31mValueError\u001b[0m                                Traceback (most recent call last)",
      "Cell \u001b[1;32mIn[32], line 2\u001b[0m\n\u001b[0;32m      1\u001b[0m \u001b[38;5;66;03m# (2,3) shape ile (3, 2) shape matris toplami ne olur\u001b[39;00m\n\u001b[1;32m----> 2\u001b[0m \u001b[43marr4\u001b[49m\u001b[38;5;241;43m+\u001b[39;49m\u001b[43marr5\u001b[49m\n",
      "\u001b[1;31mValueError\u001b[0m: operands could not be broadcast together with shapes (2,3) (3,2) "
     ]
    }
   ],
   "source": [
    "# (2,3) shape ile (3, 2) shape matris toplami ne olur\n",
    "arr4+arr5"
   ]
  },
  {
   "cell_type": "code",
   "execution_count": 33,
   "id": "3bede14b-92c0-424a-b348-17794e0d90cc",
   "metadata": {},
   "outputs": [
    {
     "data": {
      "text/plain": [
       "array([[30, 40, 50],\n",
       "       [60, 70, 80]])"
      ]
     },
     "execution_count": 33,
     "metadata": {},
     "output_type": "execute_result"
    }
   ],
   "source": [
    "#Reshape islemi\n",
    "arr5.reshape(2,3)"
   ]
  },
  {
   "cell_type": "code",
   "execution_count": 35,
   "id": "77e48c11-0869-44aa-9a28-487641ba8b32",
   "metadata": {},
   "outputs": [
    {
     "data": {
      "text/plain": [
       "array([[ 90, 110, 130],\n",
       "       [150, 170, 190]])"
      ]
     },
     "execution_count": 35,
     "metadata": {},
     "output_type": "execute_result"
    }
   ],
   "source": [
    "arr4 + arr5.reshape(2,3)"
   ]
  },
  {
   "cell_type": "code",
   "execution_count": 38,
   "id": "83bb11b6-a4fa-494b-b8bf-d66d6fea86df",
   "metadata": {},
   "outputs": [
    {
     "data": {
      "text/plain": [
       "array([[10900, 13000],\n",
       "       [15400, 18400]])"
      ]
     },
     "execution_count": 38,
     "metadata": {},
     "output_type": "execute_result"
    }
   ],
   "source": [
    "# Dot Product -> ic carpim, Nokta carpim\n",
    "# ilk matrisin sutun sayisi, ikinci matrisin satir sayisina esit olmali.\n",
    "arr4.shape, arr5.shape\n",
    "np.dot(arr4, arr5)"
   ]
  },
  {
   "cell_type": "code",
   "execution_count": 39,
   "id": "d6991853-29c1-4972-b5cf-4229c713f9fa",
   "metadata": {},
   "outputs": [
    {
     "data": {
      "text/plain": [
       "(array([[ 60,  70,  80],\n",
       "        [ 90, 100, 110]]),\n",
       " array([[30, 40],\n",
       "        [50, 60],\n",
       "        [70, 80]]))"
      ]
     },
     "execution_count": 39,
     "metadata": {},
     "output_type": "execute_result"
    }
   ],
   "source": [
    "arr4, arr5"
   ]
  },
  {
   "cell_type": "code",
   "execution_count": 40,
   "id": "14a1b182-1bc3-4e6b-9b4c-e77eff40b98e",
   "metadata": {},
   "outputs": [],
   "source": [
    "#Ic carpima nerede ihtiyac duyariz -> Benzerlik, projeksiyon, lineer kombinasyon"
   ]
  },
  {
   "cell_type": "markdown",
   "id": "fab344e6-e751-42b8-84a7-d59c240c2f25",
   "metadata": {},
   "source": [
    "## Tensor"
   ]
  },
  {
   "cell_type": "code",
   "execution_count": 41,
   "id": "a5c07bb2-a726-4d53-b4d2-20d380e2dace",
   "metadata": {},
   "outputs": [
    {
     "data": {
      "text/plain": [
       "(3, (4, 3, 2))"
      ]
     },
     "execution_count": 41,
     "metadata": {},
     "output_type": "execute_result"
    }
   ],
   "source": [
    "tensor1 = np.array(\n",
    "    [\n",
    "        [[10, 20], [30,40], [50,60]],\n",
    "        [[70,80], [90, 100], [110, 120]],\n",
    "        [[70,80], [90, 100], [110, 120]],\n",
    "        [[70,80], [90, 100], [110, 120]]\n",
    "    ]\n",
    ")\n",
    "tensor1.ndim, tensor1.shape"
   ]
  },
  {
   "cell_type": "code",
   "execution_count": 42,
   "id": "38a3e56f-7860-4832-9097-5bed0fe07e8f",
   "metadata": {},
   "outputs": [
    {
     "data": {
      "text/plain": [
       "array([[[ 37, 226,  31],\n",
       "        [ 26, 148,  58],\n",
       "        [142,  81,  22],\n",
       "        ...,\n",
       "        [  2, 184,  24],\n",
       "        [ 42, 155,  39],\n",
       "        [ 37,  20, 183]],\n",
       "\n",
       "       [[185, 103,  92],\n",
       "        [202,  65,  90],\n",
       "        [199,  91,  88],\n",
       "        ...,\n",
       "        [118,  18, 146],\n",
       "        [ 64,  77, 239],\n",
       "        [219,  51,  22]],\n",
       "\n",
       "       [[ 31, 220, 137],\n",
       "        [138, 202, 144],\n",
       "        [ 47, 234, 230],\n",
       "        ...,\n",
       "        [ 32, 221,  31],\n",
       "        [179, 213,  36],\n",
       "        [ 44, 149, 183]],\n",
       "\n",
       "       ...,\n",
       "\n",
       "       [[218, 145, 209],\n",
       "        [117,  86, 152],\n",
       "        [ 47, 145, 208],\n",
       "        ...,\n",
       "        [242,  68, 204],\n",
       "        [136, 229, 189],\n",
       "        [156, 232, 173]],\n",
       "\n",
       "       [[ 24, 184, 104],\n",
       "        [217, 194, 222],\n",
       "        [129, 243,  62],\n",
       "        ...,\n",
       "        [251,  11,  91],\n",
       "        [189,  36, 255],\n",
       "        [137, 236,  80]],\n",
       "\n",
       "       [[216,  46, 198],\n",
       "        [ 63, 159,  50],\n",
       "        [248, 108,  84],\n",
       "        ...,\n",
       "        [192,  38, 172],\n",
       "        [ 20, 199, 160],\n",
       "        [230,  12, 166]]], dtype=int32)"
      ]
     },
     "execution_count": 42,
     "metadata": {},
     "output_type": "execute_result"
    }
   ],
   "source": [
    "tensor2 = np.random.randint(0, 256, (100, 100, 3))\n",
    "tensor2"
   ]
  },
  {
   "cell_type": "code",
   "execution_count": 43,
   "id": "cc3c9b27-5630-4bd8-b123-0456b996fca3",
   "metadata": {},
   "outputs": [
    {
     "ename": "ModuleNotFoundError",
     "evalue": "No module named 'PIL'",
     "output_type": "error",
     "traceback": [
      "\u001b[1;31m---------------------------------------------------------------------------\u001b[0m",
      "\u001b[1;31mModuleNotFoundError\u001b[0m                       Traceback (most recent call last)",
      "Cell \u001b[1;32mIn[43], line 1\u001b[0m\n\u001b[1;32m----> 1\u001b[0m \u001b[38;5;28;01mfrom\u001b[39;00m\u001b[38;5;250m \u001b[39m\u001b[38;5;21;01mPIL\u001b[39;00m\u001b[38;5;250m \u001b[39m\u001b[38;5;28;01mimport\u001b[39;00m Image\n",
      "\u001b[1;31mModuleNotFoundError\u001b[0m: No module named 'PIL'"
     ]
    }
   ],
   "source": [
    "from PIL import Image"
   ]
  },
  {
   "cell_type": "code",
   "execution_count": null,
   "id": "ccac3fff-17c5-4bd4-baf4-5423baebae13",
   "metadata": {},
   "outputs": [],
   "source": []
  }
 ],
 "metadata": {
  "kernelspec": {
   "display_name": "Python 3 (ipykernel)",
   "language": "python",
   "name": "python3"
  },
  "language_info": {
   "codemirror_mode": {
    "name": "ipython",
    "version": 3
   },
   "file_extension": ".py",
   "mimetype": "text/x-python",
   "name": "python",
   "nbconvert_exporter": "python",
   "pygments_lexer": "ipython3",
   "version": "3.9.21"
  }
 },
 "nbformat": 4,
 "nbformat_minor": 5
}
