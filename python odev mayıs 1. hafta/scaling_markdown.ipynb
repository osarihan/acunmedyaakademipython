{
 "cells": [
  {
   "cell_type": "markdown",
   "id": "87345f68-81c5-455c-a1c2-9f84536fff7c",
   "metadata": {},
   "source": [
    "### ÖDEV 2 -> Scaling (Özellik Ölçekleme) hakkında araştırma yapıp bir markdown dosyası oluşturalım."
   ]
  },
  {
   "cell_type": "markdown",
   "id": "4ee4cd90-44df-420c-8075-e9037c373cde",
   "metadata": {},
   "source": [
    "### Scaling (Özellik Ölçekleme) nedir?\n",
    "        makine öğrenmesi ve veri ön işlemedeki verideki sayısal özellikleri ortak bir ölçeğe getirme. özellikle farklı ölçeklerdeki değerlerin modele  etkisini dengelemek için yapılır."
   ]
  },
  {
   "cell_type": "markdown",
   "id": "ef5d5f6c-9b7a-4884-89a3-0f5532dc51c1",
   "metadata": {},
   "source": [
    "### neden scaling kullanırız?\n",
    "\n",
    "    *Algoritmaların daha iyi öğrenebilmesi için:\n",
    "        Bazı algoritmalar (özellikle mesafe tabanlı olanlar: KNN, K-Means, SVM, Lojistik Regresyon, vs.) özellikler arasındaki ölçek farklarından etkilenir.\n",
    "\n",
    "    *Daha hızlı ve kararlı öğrenme:\n",
    "        Gradyan iniş (gradient descent) kullanan algoritmalar için daha hızlı yakınsama sağlar\n",
    "    *Ağırlıkların anlamlı olması için:\n",
    "        Ölçeklenmemiş veride, modelin ağırlıkları karşılaştırılamaz hale gelir.\n",
    "    "
   ]
  },
  {
   "cell_type": "markdown",
   "id": "d0c65974-acfd-4182-9375-041f43048b8c",
   "metadata": {},
   "source": [
    "###  Yaygın Scaling Yöntemleri\n",
    "    *Min-Max Scaling (Normalization)\n",
    "        Verileri 0 ile 1 (veya başka bir aralık) arasına sıkıştırır.\n",
    "    *Standardization (Z-Score Normalization)\n",
    "        Ortalama = 0, standart sapma = 1 olacak şekilde dönüştürür.\n",
    "    *Robust Scaling\n",
    "        Aykırı değerlere dayanıklıdır. Ortalamadan değil, medyan ve IQR (çeyrekler arası aralık) üzerinden çalışır."
   ]
  },
  {
   "cell_type": "code",
   "execution_count": null,
   "id": "4e9dc65e-f673-4a86-b43c-43a4acfdec7e",
   "metadata": {},
   "outputs": [],
   "source": []
  }
 ],
 "metadata": {
  "kernelspec": {
   "display_name": "Python 3 (ipykernel)",
   "language": "python",
   "name": "python3"
  },
  "language_info": {
   "codemirror_mode": {
    "name": "ipython",
    "version": 3
   },
   "file_extension": ".py",
   "mimetype": "text/x-python",
   "name": "python",
   "nbconvert_exporter": "python",
   "pygments_lexer": "ipython3",
   "version": "3.9.21"
  }
 },
 "nbformat": 4,
 "nbformat_minor": 5
}
