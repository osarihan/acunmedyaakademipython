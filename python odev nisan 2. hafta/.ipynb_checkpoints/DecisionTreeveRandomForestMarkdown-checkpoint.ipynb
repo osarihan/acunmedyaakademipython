{
 "cells": [
  {
   "cell_type": "markdown",
   "id": "145349a9-d903-4529-a33d-b47884e10f86",
   "metadata": {},
   "source": [
    "## Decision Tree nedir?\n",
    "    Karar ağaçları – sınıflama, özellik ve hedefe göre karar düğümleri (decision nodes) ve yaprak düğümlerinden (leaf nodes) oluşan ağaç yapısı formunda bir model oluşturan bir sınıflandırma yöntemidir. Karar ağacı algoritması, veri setini küçük ve hatta daha küçük parçalara bölerek geliştirilir. Bir karar düğümü bir veya birden fazla dallanma içerebilir. İlk düğüme kök düğüm (root node) denir. Bir karar ağacı hem kategorik hem de sayısal verilerden oluşabilir. \n",
    "\n",
    "    avantajlari\n",
    "        yorumu kolaydir\n",
    "        on islemeye gerek duymaz\n",
    "        hem sayisal hem de kategorik veriler ile calisilabilir\n",
    "    dezavantajlari\n",
    "        overfitting olma olasiligi yuksektir\n",
    "        kucuk degisiklikler buyuk etkilere yol acabilir\n",
    "        Daha iyi modeller cogu durumda daha basarilidir(random forest vb.)\n",
    "\n",
    "    ornek\n",
    "        Glucose > 120?\n",
    "            Hayır → Diyabet: Hayır\n",
    "            Evet\n",
    "                Age > 45?\n",
    "                    Hayır → Diyabet: Hayır\n",
    "                    Evet → Diyabet: Evet\n",
    "\n"
   ]
  },
  {
   "cell_type": "markdown",
   "id": "45cd6116-b0ee-43db-9b6a-137b7f285314",
   "metadata": {},
   "source": [
    "## Random Forest nedir?\n",
    "    Random Forest, çok sayıda Decision Tree'nin birleşimidir.\n",
    "    tek bir karar ağacı yerine, onlarca veya yüzlerce küçük ağaç oluşturur ve onların oylarıyla karar verir.\n",
    "    Avantajları\n",
    "        doğruluğu yüksektir\n",
    "        tek bir decision tree'ye gore overfittinge karşı dayanıklıdır\n",
    "        Özellik seçimini otomatik yapar\n",
    "    Dezavantajları\n",
    "        Yavaş olabilir\n",
    "        Yorumlaması tek bir Decision Tree kadar kolay olmaz\n",
    "        Büyük veri setlerinde daha fazla hafıza kullanır\n",
    "    ornek:\n",
    "    Diyelim ki şu soruyu sormak istiyoruz:\n",
    "\n",
    "    “Bu kişi diyabet hastası mı?”\n",
    "\n",
    "    Random Forest 100 tane küçük ağaç kurar.\n",
    "\n",
    "    Yeni kişi geldi → 100 ağaçtan 73'ü “evet” dedi, 27’si “hayır”.\n",
    "\n",
    "    Sonuç: Model “evet, hastadır” kararını verir."
   ]
  },
  {
   "cell_type": "markdown",
   "id": "5d75fc53-b7ba-49c5-86bc-a3a1ec18bd4d",
   "metadata": {},
   "source": [
    "    Özellik          | Decision Tree        | Random Forest\n",
    "    ===============================================================\n",
    "    Model sayısı     | 1                    | Çok (örneğin 100+)\n",
    "    Hata riski       | Yüksek (overfitting) | Daha az (daha stabil)\n",
    "    Hız              | Daha hızlı           | Daha yavaş\n",
    "    Anlaşılabilirlik | Kolay yorumlanır     | Daha karmaşık\n",
    "    Doğruluk         | Orta                 | Genelde daha yüksek"
   ]
  },
  {
   "cell_type": "code",
   "execution_count": null,
   "id": "265b4b43-d4b4-46ff-9b07-ffa80fd166f3",
   "metadata": {},
   "outputs": [],
   "source": []
  }
 ],
 "metadata": {
  "kernelspec": {
   "display_name": "Python 3 (ipykernel)",
   "language": "python",
   "name": "python3"
  },
  "language_info": {
   "codemirror_mode": {
    "name": "ipython",
    "version": 3
   },
   "file_extension": ".py",
   "mimetype": "text/x-python",
   "name": "python",
   "nbconvert_exporter": "python",
   "pygments_lexer": "ipython3",
   "version": "3.9.21"
  }
 },
 "nbformat": 4,
 "nbformat_minor": 5
}
